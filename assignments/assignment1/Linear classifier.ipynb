{
 "cells": [
  {
   "cell_type": "markdown",
   "metadata": {},
   "source": [
    "# Задание 1.2 - Линейный классификатор (Linear classifier)\n",
    "\n",
    "В этом задании мы реализуем другую модель машинного обучения - линейный классификатор. Линейный классификатор подбирает для каждого класса веса, на которые нужно умножить значение каждого признака и потом сложить вместе.\n",
    "Тот класс, у которого эта сумма больше, и является предсказанием модели.\n",
    "\n",
    "В этом задании вы:\n",
    "- потренируетесь считать градиенты различных многомерных функций\n",
    "- реализуете подсчет градиентов через линейную модель и функцию потерь softmax\n",
    "- реализуете процесс тренировки линейного классификатора\n",
    "- подберете параметры тренировки на практике\n",
    "\n",
    "На всякий случай, еще раз ссылка на туториал по numpy:  \n",
    "http://cs231n.github.io/python-numpy-tutorial/"
   ]
  },
  {
   "cell_type": "code",
   "execution_count": 1,
   "metadata": {},
   "outputs": [],
   "source": [
    "import numpy as np\n",
    "import matplotlib.pyplot as plt\n",
    "\n",
    "%matplotlib inline"
   ]
  },
  {
   "cell_type": "code",
   "execution_count": 2,
   "metadata": {},
   "outputs": [],
   "source": [
    "from dataset import load_svhn, random_split_train_val\n",
    "from gradient_check import check_gradient\n",
    "from metrics import multiclass_accuracy \n",
    "import linear_classifer"
   ]
  },
  {
   "cell_type": "markdown",
   "metadata": {},
   "source": [
    "# Как всегда, первым делом загружаем данные\n",
    "\n",
    "Мы будем использовать все тот же SVHN."
   ]
  },
  {
   "cell_type": "code",
   "execution_count": 3,
   "metadata": {},
   "outputs": [],
   "source": [
    "def prepare_for_linear_classifier(train_X, test_X):\n",
    "    train_flat = train_X.reshape(train_X.shape[0], -1).astype(np.float) / 255.0\n",
    "    test_flat = test_X.reshape(test_X.shape[0], -1).astype(np.float) / 255.0\n",
    "    \n",
    "    # Subtract mean\n",
    "    mean_image = np.mean(train_flat, axis = 0)\n",
    "    train_flat -= mean_image\n",
    "    test_flat -= mean_image\n",
    "    \n",
    "    # Add another channel with ones as a bias term\n",
    "    train_flat_with_ones = np.hstack([train_flat, np.ones((train_X.shape[0], 1))])\n",
    "    test_flat_with_ones = np.hstack([test_flat, np.ones((test_X.shape[0], 1))])    \n",
    "    return train_flat_with_ones, test_flat_with_ones\n",
    "    \n",
    "train_X, train_y, test_X, test_y = load_svhn(\"data\", max_train=10000, max_test=1000)    \n",
    "train_X, test_X = prepare_for_linear_classifier(train_X, test_X)\n",
    "# Split train into train and val\n",
    "train_X, train_y, val_X, val_y = random_split_train_val(train_X, train_y, num_val = 1000)"
   ]
  },
  {
   "cell_type": "markdown",
   "metadata": {},
   "source": [
    "# Играемся с градиентами!\n",
    "\n",
    "В этом курсе мы будем писать много функций, которые вычисляют градиенты аналитическим методом.\n",
    "\n",
    "Все функции, в которых мы будем вычислять градиенты, будут написаны по одной и той же схеме.  \n",
    "Они будут получать на вход точку, где нужно вычислить значение и градиент функции, а на выходе будут выдавать кортеж (tuple) из двух значений - собственно значения функции в этой точке (всегда одно число) и аналитического значения градиента в той же точке (той же размерности, что и вход).\n",
    "```\n",
    "def f(x):\n",
    "    \"\"\"\n",
    "    Computes function and analytic gradient at x\n",
    "    \n",
    "    x: np array of float, input to the function\n",
    "    \n",
    "    Returns:\n",
    "    value: float, value of the function \n",
    "    grad: np array of float, same shape as x\n",
    "    \"\"\"\n",
    "    ...\n",
    "    \n",
    "    return value, grad\n",
    "```\n",
    "\n",
    "Необходимым инструментом во время реализации кода, вычисляющего градиенты, является функция его проверки. Эта функция вычисляет градиент численным методом и сверяет результат с градиентом, вычисленным аналитическим методом.\n",
    "\n",
    "Мы начнем с того, чтобы реализовать вычисление численного градиента (numeric gradient) в функции `check_gradient` в `gradient_check.py`. Эта функция будет принимать на вход функции формата, заданного выше, использовать значение `value` для вычисления численного градиента и сравнит его с аналитическим - они должны сходиться.\n",
    "\n",
    "Напишите часть функции, которая вычисляет градиент с помощью численной производной для каждой координаты. Для вычисления производной используйте так называемую two-point formula (https://en.wikipedia.org/wiki/Numerical_differentiation):\n",
    "\n",
    "![image](https://wikimedia.org/api/rest_v1/media/math/render/svg/22fc2c0a66c63560a349604f8b6b39221566236d)\n",
    "\n",
    "Все функции приведенные в следующей клетке должны проходить gradient check."
   ]
  },
  {
   "cell_type": "code",
   "execution_count": 4,
   "metadata": {
    "scrolled": true
   },
   "outputs": [
    {
     "name": "stdout",
     "output_type": "stream",
     "text": [
      "Gradient check passed!\n",
      "Gradient check passed!\n",
      "Gradient check passed!\n"
     ]
    },
    {
     "data": {
      "text/plain": [
       "True"
      ]
     },
     "execution_count": 4,
     "metadata": {},
     "output_type": "execute_result"
    }
   ],
   "source": [
    "# All the functions below should pass the gradient check\n",
    "\n",
    "def square(x):\n",
    "    return float(x*x), 2*x\n",
    "\n",
    "check_gradient(square, np.array([3.0]))\n",
    "\n",
    "def array_sum(x):\n",
    "    assert x.shape == (2,), x.shape\n",
    "    return np.sum(x), np.ones_like(x)\n",
    "\n",
    "check_gradient(array_sum, np.array([3.0, 2.0]))\n",
    "\n",
    "def array_2d_sum(x):\n",
    "    assert x.shape == (2,2)\n",
    "    return np.sum(x), np.ones_like(x)\n",
    "\n",
    "check_gradient(array_2d_sum, np.array([[3.0, 2.0], [1.0, 0.0]]))"
   ]
  },
  {
   "cell_type": "code",
   "execution_count": 5,
   "metadata": {},
   "outputs": [],
   "source": [
    "probs = linear_classifer.softmax(np.array([-10, 0, 10]))\n",
    "\n",
    "# Make sure it works for big numbers too!\n",
    "probs = linear_classifer.softmax(np.array([1000, 0, 0]))\n",
    "assert np.isclose(probs[0], 1.0)"
   ]
  },
  {
   "cell_type": "markdown",
   "metadata": {},
   "source": [
    "Кроме этого, мы реализуем cross-entropy loss, которую мы будем использовать как функцию ошибки (error function).\n",
    "В общем виде cross-entropy определена следующим образом:\n",
    "![image](https://wikimedia.org/api/rest_v1/media/math/render/svg/0cb6da032ab424eefdca0884cd4113fe578f4293)\n",
    "\n",
    "где x - все классы, p(x) - истинная вероятность принадлежности сэмпла классу x, а q(x) - вероятность принадлежности классу x, предсказанная моделью.  \n",
    "В нашем случае сэмпл принадлежит только одному классу, индекс которого передается функции. Для него p(x) равна 1, а для остальных классов - 0. \n",
    "\n",
    "Это позволяет реализовать функцию проще!"
   ]
  },
  {
   "cell_type": "code",
   "execution_count": 6,
   "metadata": {},
   "outputs": [
    {
     "data": {
      "text/plain": [
       "5.006760443547122"
      ]
     },
     "execution_count": 6,
     "metadata": {},
     "output_type": "execute_result"
    }
   ],
   "source": [
    "probs = linear_classifer.softmax(np.array([-5, 0, 5]))\n",
    "linear_classifer.cross_entropy_loss(probs, 1)"
   ]
  },
  {
   "cell_type": "markdown",
   "metadata": {},
   "source": [
    "После того как мы реализовали сами функции, мы можем реализовать градиент.\n",
    "\n",
    "Оказывается, что вычисление градиента становится гораздо проще, если объединить эти функции в одну, которая сначала вычисляет вероятности через softmax, а потом использует их для вычисления функции ошибки через cross-entropy loss.\n",
    "\n",
    "Эта функция `softmax_with_cross_entropy` будет возвращает и значение ошибки, и градиент по входным параметрам. Мы проверим корректность реализации с помощью `check_gradient`."
   ]
  },
  {
   "cell_type": "code",
   "execution_count": 7,
   "metadata": {},
   "outputs": [
    {
     "name": "stdout",
     "output_type": "stream",
     "text": [
      "Gradient check passed!\n"
     ]
    },
    {
     "data": {
      "text/plain": [
       "True"
      ]
     },
     "execution_count": 7,
     "metadata": {},
     "output_type": "execute_result"
    }
   ],
   "source": [
    "loss, grad = linear_classifer.softmax_with_cross_entropy(np.array([1, 0, 0]), 1)\n",
    "check_gradient(lambda x: linear_classifer.softmax_with_cross_entropy(x, 1), np.array([1, 0, 0], np.float))"
   ]
  },
  {
   "cell_type": "markdown",
   "metadata": {},
   "source": [
    "В качестве метода тренировки мы будем использовать стохастический градиентный спуск (stochastic gradient descent или SGD), который работает с батчами сэмплов. \n",
    "\n",
    "Поэтому все наши фукнции будут получать не один пример, а батч, то есть входом будет не вектор из `num_classes` оценок, а матрица размерности `batch_size, num_classes`. Индекс примера в батче всегда будет первым измерением.\n",
    "\n",
    "Следующий шаг - переписать наши функции так, чтобы они поддерживали батчи.\n",
    "\n",
    "Финальное значение функции ошибки должно остаться числом, и оно равно среднему значению ошибки среди всех примеров в батче."
   ]
  },
  {
   "cell_type": "code",
   "execution_count": 8,
   "metadata": {
    "scrolled": false
   },
   "outputs": [
    {
     "name": "stdout",
     "output_type": "stream",
     "text": [
      "Gradient check passed!\n",
      "Gradient check passed!\n"
     ]
    }
   ],
   "source": [
    "# TODO Extend combined function so it can receive a 2d array with batch of samples\n",
    "np.random.seed(42)\n",
    "# Test batch_size = 1\n",
    "num_classes = 4\n",
    "batch_size = 1\n",
    "predictions = np.random.randint(-1, 3, size=(batch_size, num_classes)).astype(np.float)\n",
    "target_index = np.random.randint(0, num_classes, size=(batch_size, 1)).astype(np.int)\n",
    "check_gradient(lambda x: linear_classifer.softmax_with_cross_entropy(x, target_index), predictions)\n",
    "\n",
    "# Test batch_size = 3\n",
    "num_classes = 4\n",
    "batch_size = 3\n",
    "predictions = np.random.randint(-1, 3, size=(batch_size, num_classes)).astype(np.float)\n",
    "target_index = np.random.randint(0, num_classes, size=(batch_size, 1)).astype(np.int)\n",
    "check_gradient(lambda x: linear_classifer.softmax_with_cross_entropy(x, target_index), predictions)\n",
    "\n",
    "# Make sure maximum subtraction for numberic stability is done separately for every sample in the batch\n",
    "probs = linear_classifer.softmax(np.array([[20,0,0], [1000, 0, 0]]))\n",
    "assert np.all(np.isclose(probs[:, 0], 1.0))"
   ]
  },
  {
   "cell_type": "markdown",
   "metadata": {},
   "source": [
    "### Наконец, реализуем сам линейный классификатор!\n",
    "\n",
    "softmax и cross-entropy получают на вход оценки, которые выдает линейный классификатор.\n",
    "\n",
    "Он делает это очень просто: для каждого класса есть набор весов, на которые надо умножить пиксели картинки и сложить. Получившееся число и является оценкой класса, идущей на вход softmax.\n",
    "\n",
    "Таким образом, линейный классификатор можно представить как умножение вектора с пикселями на матрицу W размера `num_features, num_classes`. Такой подход легко расширяется на случай батча векторов с пикселями X размера `batch_size, num_features`:\n",
    "\n",
    "`predictions = X * W`, где `*` - матричное умножение.\n",
    "\n",
    "Реализуйте функцию подсчета линейного классификатора и градиентов по весам `linear_softmax` в файле `linear_classifer.py`"
   ]
  },
  {
   "cell_type": "code",
   "execution_count": 9,
   "metadata": {},
   "outputs": [
    {
     "name": "stdout",
     "output_type": "stream",
     "text": [
      "Gradient check passed!\n"
     ]
    },
    {
     "data": {
      "text/plain": [
       "True"
      ]
     },
     "execution_count": 9,
     "metadata": {},
     "output_type": "execute_result"
    }
   ],
   "source": [
    "batch_size = 2\n",
    "num_classes = 2\n",
    "num_features = 3\n",
    "np.random.seed(42)\n",
    "W = np.random.randint(-1, 3, size=(num_features, num_classes)).astype(np.float)\n",
    "X = np.random.randint(-1, 3, size=(batch_size, num_features)).astype(np.float)\n",
    "target_index = np.ones(batch_size, dtype=np.int)\n",
    "\n",
    "loss, dW = linear_classifer.linear_softmax(X, W, target_index)\n",
    "check_gradient(lambda w: linear_classifer.linear_softmax(X, w, target_index), W)"
   ]
  },
  {
   "cell_type": "markdown",
   "metadata": {},
   "source": [
    "### И теперь регуляризация\n",
    "\n",
    "Мы будем использовать L2 regularization для весов как часть общей функции ошибки.\n",
    "\n",
    "Напомним, L2 regularization определяется как\n",
    "\n",
    "l2_reg_loss = regularization_strength * sum<sub>ij</sub> W[i, j]<sup>2</sup>\n",
    "\n",
    "Реализуйте функцию для его вычисления и вычисления соотвествующих градиентов."
   ]
  },
  {
   "cell_type": "code",
   "execution_count": 10,
   "metadata": {},
   "outputs": [
    {
     "name": "stdout",
     "output_type": "stream",
     "text": [
      "Gradient check passed!\n"
     ]
    },
    {
     "data": {
      "text/plain": [
       "True"
      ]
     },
     "execution_count": 10,
     "metadata": {},
     "output_type": "execute_result"
    }
   ],
   "source": [
    "# TODO Implement l2_regularization function that implements loss for L2 regularization\n",
    "linear_classifer.l2_regularization(W, 0.01)\n",
    "check_gradient(lambda w: linear_classifer.l2_regularization(w, 0.01), W)"
   ]
  },
  {
   "cell_type": "markdown",
   "metadata": {},
   "source": [
    "# Тренировка!"
   ]
  },
  {
   "cell_type": "markdown",
   "metadata": {},
   "source": [
    "Градиенты в порядке, реализуем процесс тренировки!"
   ]
  },
  {
   "cell_type": "code",
   "execution_count": 11,
   "metadata": {
    "scrolled": false
   },
   "outputs": [],
   "source": [
    "# TODO: Implement LinearSoftmaxClassifier.fit function\n",
    "classifier = linear_classifer.LinearSoftmaxClassifier()\n",
    "loss_history, val_loss_history = classifier.fit(train_X, train_y, epochs=200, \n",
    "                                                learning_rate=5e-2, batch_size=300, reg=1e-4, \n",
    "                                                verbose=False, val_X=val_X, val_y=val_y)"
   ]
  },
  {
   "cell_type": "code",
   "execution_count": 12,
   "metadata": {},
   "outputs": [
    {
     "data": {
      "text/plain": [
       "[<matplotlib.lines.Line2D at 0x7f5fb266ba20>]"
      ]
     },
     "execution_count": 12,
     "metadata": {},
     "output_type": "execute_result"
    },
    {
     "data": {
      "image/png": "[encoded data removed]",
      "text/plain": [
       "<Figure size 432x288 with 1 Axes>"
      ]
     },
     "metadata": {
      "needs_background": "light"
     },
     "output_type": "display_data"
    }
   ],
   "source": [
    "# let's look at the loss history!\n",
    "plt.plot(loss_history, label='train')\n",
    "plt.plot(val_loss_history, label='val')"
   ]
  },
  {
   "cell_type": "code",
   "execution_count": 28,
   "metadata": {},
   "outputs": [
    {
     "name": "stdout",
     "output_type": "stream",
     "text": [
      "Val loss min at epoch 50\n"
     ]
    }
   ],
   "source": [
    "print(f'Val loss min at epoch {np.argmin(np.array(val_loss_history))}')"
   ]
  },
  {
   "cell_type": "code",
   "execution_count": 13,
   "metadata": {},
   "outputs": [
    {
     "name": "stdout",
     "output_type": "stream",
     "text": [
      "Accuracy:  0.25\n",
      "Epoch 0, loss: 203.727911\n",
      "Epoch 1, loss: 62.189821\n",
      "Epoch 2, loss: 20.107707\n",
      "Epoch 3, loss: 7.595998\n",
      "Epoch 4, loss: 3.875892\n",
      "Epoch 5, loss: 2.769821\n",
      "Epoch 6, loss: 2.441037\n",
      "Epoch 7, loss: 2.343242\n",
      "Epoch 8, loss: 2.314180\n",
      "Epoch 9, loss: 2.305527\n",
      "Epoch 10, loss: 2.302949\n",
      "Epoch 11, loss: 2.302190\n",
      "Epoch 12, loss: 2.301958\n",
      "Epoch 13, loss: 2.301882\n",
      "Epoch 14, loss: 2.301895\n",
      "Epoch 15, loss: 2.301877\n",
      "Epoch 16, loss: 2.301875\n",
      "Epoch 17, loss: 2.301891\n",
      "Epoch 18, loss: 2.301868\n",
      "Epoch 19, loss: 2.301871\n",
      "Epoch 20, loss: 2.301866\n",
      "Epoch 21, loss: 2.301847\n",
      "Epoch 22, loss: 2.301871\n",
      "Epoch 23, loss: 2.301848\n",
      "Epoch 24, loss: 2.301864\n",
      "Epoch 25, loss: 2.301861\n",
      "Epoch 26, loss: 2.301878\n",
      "Epoch 27, loss: 2.301873\n",
      "Epoch 28, loss: 2.301853\n",
      "Epoch 29, loss: 2.301868\n",
      "Epoch 30, loss: 2.301889\n",
      "Epoch 31, loss: 2.301878\n",
      "Epoch 32, loss: 2.301866\n",
      "Epoch 33, loss: 2.301877\n",
      "Epoch 34, loss: 2.301858\n",
      "Epoch 35, loss: 2.301855\n",
      "Epoch 36, loss: 2.301859\n",
      "Epoch 37, loss: 2.301866\n",
      "Epoch 38, loss: 2.301870\n",
      "Epoch 39, loss: 2.301882\n",
      "Epoch 40, loss: 2.301871\n",
      "Epoch 41, loss: 2.301873\n",
      "Epoch 42, loss: 2.301862\n",
      "Epoch 43, loss: 2.301865\n",
      "Epoch 44, loss: 2.301865\n",
      "Epoch 45, loss: 2.301859\n",
      "Epoch 46, loss: 2.301870\n",
      "Epoch 47, loss: 2.301872\n",
      "Epoch 48, loss: 2.301864\n",
      "Epoch 49, loss: 2.301875\n",
      "Epoch 50, loss: 2.301862\n",
      "Epoch 51, loss: 2.301867\n",
      "Epoch 52, loss: 2.301861\n",
      "Epoch 53, loss: 2.301876\n",
      "Epoch 54, loss: 2.301861\n",
      "Epoch 55, loss: 2.301865\n",
      "Epoch 56, loss: 2.301860\n",
      "Epoch 57, loss: 2.301866\n",
      "Epoch 58, loss: 2.301855\n",
      "Epoch 59, loss: 2.301878\n",
      "Epoch 60, loss: 2.301862\n",
      "Epoch 61, loss: 2.301890\n",
      "Epoch 62, loss: 2.301867\n",
      "Epoch 63, loss: 2.301867\n",
      "Epoch 64, loss: 2.301857\n",
      "Epoch 65, loss: 2.301855\n",
      "Epoch 66, loss: 2.301851\n",
      "Epoch 67, loss: 2.301877\n",
      "Epoch 68, loss: 2.301867\n",
      "Epoch 69, loss: 2.301855\n",
      "Epoch 70, loss: 2.301879\n",
      "Epoch 71, loss: 2.301860\n",
      "Epoch 72, loss: 2.301857\n",
      "Epoch 73, loss: 2.301863\n",
      "Epoch 74, loss: 2.301863\n",
      "Epoch 75, loss: 2.301862\n",
      "Epoch 76, loss: 2.301884\n",
      "Epoch 77, loss: 2.301867\n",
      "Epoch 78, loss: 2.301892\n",
      "Epoch 79, loss: 2.301863\n",
      "Epoch 80, loss: 2.301859\n",
      "Epoch 81, loss: 2.301882\n",
      "Epoch 82, loss: 2.301874\n",
      "Epoch 83, loss: 2.301856\n",
      "Epoch 84, loss: 2.301873\n",
      "Epoch 85, loss: 2.301872\n",
      "Epoch 86, loss: 2.301863\n",
      "Epoch 87, loss: 2.301864\n",
      "Epoch 88, loss: 2.301860\n",
      "Epoch 89, loss: 2.301863\n",
      "Epoch 90, loss: 2.301860\n",
      "Epoch 91, loss: 2.301856\n",
      "Epoch 92, loss: 2.301878\n",
      "Epoch 93, loss: 2.301861\n",
      "Epoch 94, loss: 2.301855\n",
      "Epoch 95, loss: 2.301865\n",
      "Epoch 96, loss: 2.301862\n",
      "Epoch 97, loss: 2.301881\n",
      "Epoch 98, loss: 2.301870\n",
      "Epoch 99, loss: 2.301849\n",
      "Accuracy after training for 100 epochs:  0.126\n"
     ]
    }
   ],
   "source": [
    "# Let's check how it performs on validation set\n",
    "pred = classifier.predict(val_X)\n",
    "accuracy = multiclass_accuracy(pred, val_y)\n",
    "print(\"Accuracy: \", accuracy)\n",
    "\n",
    "# Now, let's train more and see if it performs better\n",
    "classifier.fit(train_X, train_y, epochs=100, learning_rate=1e-3, batch_size=300, reg=1e1)\n",
    "pred = classifier.predict(val_X)\n",
    "accuracy = multiclass_accuracy(pred, val_y)\n",
    "print(\"Accuracy after training for 100 epochs: \", accuracy)"
   ]
  },
  {
   "cell_type": "markdown",
   "metadata": {},
   "source": [
    "### Как и раньше, используем кросс-валидацию для подбора гиперпараметтов.\n",
    "\n",
    "В этот раз, чтобы тренировка занимала разумное время, мы будем использовать только одно разделение на тренировочные (training) и проверочные (validation) данные.\n",
    "\n",
    "Теперь нам нужно подобрать не один, а два гиперпараметра! Не ограничивайте себя изначальными значениями в коде.  \n",
    "Добейтесь точности более чем **20%** на проверочных данных (validation data)."
   ]
  },
  {
   "cell_type": "code",
   "execution_count": 17,
   "metadata": {},
   "outputs": [
    {
     "name": "stderr",
     "output_type": "stream",
     "text": [
      "/home/willenjoy/work/study/ML/dlcourse_ai/assignments/assignment1/linear_classifer.py:40: RuntimeWarning: divide by zero encountered in log\n",
      "  h = -np.log(probs)\n"
     ]
    },
    {
     "name": "stdout",
     "output_type": "stream",
     "text": [
      "Learning rate = 0.1, reg_strength = 10.0: 0.114\n",
      "Learning rate = 0.1, reg_strength = 1: 0.161\n",
      "Learning rate = 0.1, reg_strength = 0.1: 0.203\n",
      "Learning rate = 0.1, reg_strength = 0.01: 0.222\n",
      "Learning rate = 0.1, reg_strength = 0.001: 0.243\n",
      "Learning rate = 0.1, reg_strength = 0.0001: 0.241\n",
      "Learning rate = 0.1, reg_strength = 1e-05: 0.245\n",
      "Learning rate = 0.1, reg_strength = 1e-06: 0.252\n",
      "Learning rate = 0.05, reg_strength = 10.0: 0.122\n",
      "Learning rate = 0.05, reg_strength = 1: 0.153\n",
      "Learning rate = 0.05, reg_strength = 0.1: 0.232\n",
      "Learning rate = 0.05, reg_strength = 0.01: 0.241\n",
      "Learning rate = 0.05, reg_strength = 0.001: 0.24\n",
      "Learning rate = 0.05, reg_strength = 0.0001: 0.25\n",
      "Learning rate = 0.05, reg_strength = 1e-05: 0.248\n",
      "Learning rate = 0.05, reg_strength = 1e-06: 0.249\n",
      "Learning rate = 0.01, reg_strength = 10.0: 0.123\n",
      "Learning rate = 0.01, reg_strength = 1: 0.174\n",
      "Learning rate = 0.01, reg_strength = 0.1: 0.227\n",
      "Learning rate = 0.01, reg_strength = 0.01: 0.24\n",
      "Learning rate = 0.01, reg_strength = 0.001: 0.241\n",
      "Learning rate = 0.01, reg_strength = 0.0001: 0.24\n",
      "Learning rate = 0.01, reg_strength = 1e-05: 0.242\n",
      "Learning rate = 0.01, reg_strength = 1e-06: 0.238\n",
      "Learning rate = 0.001, reg_strength = 10.0: 0.121\n",
      "Learning rate = 0.001, reg_strength = 1: 0.173\n",
      "Learning rate = 0.001, reg_strength = 0.1: 0.223\n",
      "Learning rate = 0.001, reg_strength = 0.01: 0.228\n",
      "Learning rate = 0.001, reg_strength = 0.001: 0.227\n",
      "Learning rate = 0.001, reg_strength = 0.0001: 0.226\n",
      "Learning rate = 0.001, reg_strength = 1e-05: 0.227\n",
      "Learning rate = 0.001, reg_strength = 1e-06: 0.23\n",
      "Learning rate = 0.0001, reg_strength = 10.0: 0.121\n",
      "Learning rate = 0.0001, reg_strength = 1: 0.165\n",
      "Learning rate = 0.0001, reg_strength = 0.1: 0.165\n",
      "Learning rate = 0.0001, reg_strength = 0.01: 0.177\n",
      "Learning rate = 0.0001, reg_strength = 0.001: 0.172\n",
      "Learning rate = 0.0001, reg_strength = 0.0001: 0.167\n",
      "Learning rate = 0.0001, reg_strength = 1e-05: 0.18\n",
      "Learning rate = 0.0001, reg_strength = 1e-06: 0.172\n",
      "best validation accuracy achieved: 0.252000\n"
     ]
    }
   ],
   "source": [
    "num_epochs = 200\n",
    "batch_size = 300\n",
    "\n",
    "learning_rates = [1e-1, 5e-2, 1e-2, 1e-3]\n",
    "reg_strengths = [1e-2, 1e-3, 1e-4, 1e-5, 1e-6]\n",
    "\n",
    "best_classifier = None\n",
    "best_val_accuracy = None\n",
    "\n",
    "for learning_rate in learning_rates:\n",
    "    for reg_strength in reg_strengths:\n",
    "        classifier = linear_classifer.LinearSoftmaxClassifier()\n",
    "        classifier.fit(train_X, train_y, batch_size=batch_size, learning_rate=learning_rate, \n",
    "                       reg=reg_strength, epochs=num_epochs, verbose=False)\n",
    "        pred = classifier.predict(val_X)\n",
    "        accuracy = multiclass_accuracy(pred, val_y)\n",
    "        \n",
    "        print(f'Learning rate = {learning_rate}, reg_strength = {reg_strength}: {accuracy}')\n",
    "        if best_val_accuracy is None or accuracy > best_val_accuracy:\n",
    "            best_val_accuracy = accuracy\n",
    "            best_classifier = classifier\n",
    "\n",
    "print('best validation accuracy achieved: %f' % best_val_accuracy)"
   ]
  },
  {
   "cell_type": "markdown",
   "metadata": {},
   "source": [
    "# Какой же точности мы добились на тестовых данных?"
   ]
  },
  {
   "cell_type": "code",
   "execution_count": 18,
   "metadata": {},
   "outputs": [
    {
     "name": "stdout",
     "output_type": "stream",
     "text": [
      "Linear softmax classifier test set accuracy: 0.214000\n"
     ]
    }
   ],
   "source": [
    "test_pred = best_classifier.predict(test_X)\n",
    "test_accuracy = multiclass_accuracy(test_pred, test_y)\n",
    "print('Linear softmax classifier test set accuracy: %f' % (test_accuracy, ))"
   ]
  },
  {
   "cell_type": "markdown",
   "metadata": {},
   "source": [
    "## Выжимаем точность\n",
    "\n",
    " * Используем все данные для обучения\n",
    " * Ограничиваем число эпох во избежание переобучения"
   ]
  },
  {
   "cell_type": "code",
   "execution_count": 22,
   "metadata": {},
   "outputs": [
    {
     "data": {
      "text/plain": [
       "(10000, 3073)"
      ]
     },
     "execution_count": 22,
     "metadata": {},
     "output_type": "execute_result"
    }
   ],
   "source": [
    "full_X = np.vstack((train_X, val_X))\n",
    "full_y = np.hstack((train_y, val_y))"
   ]
  },
  {
   "cell_type": "code",
   "execution_count": 26,
   "metadata": {},
   "outputs": [
    {
     "name": "stdout",
     "output_type": "stream",
     "text": [
      "Linear softmax classifier test set accuracy: 0.211000\n"
     ]
    }
   ],
   "source": [
    "classifier = linear_classifer.LinearSoftmaxClassifier()\n",
    "classifier.fit(full_X, full_y, batch_size=300, learning_rate=5e-2, \n",
    "               reg=1e-4, epochs=50, verbose=False)\n",
    "test_pred = classifier.predict(test_X)\n",
    "test_accuracy = multiclass_accuracy(test_pred, test_y)\n",
    "print('Linear softmax classifier test set accuracy: %f' % (test_accuracy, ))"
   ]
  },
  {
   "cell_type": "code",
   "execution_count": null,
   "metadata": {},
   "outputs": [],
   "source": []
  }
 ],
 "metadata": {
  "kernelspec": {
   "display_name": "Python 3",
   "language": "python",
   "name": "python3"
  },
  "language_info": {
   "codemirror_mode": {
    "name": "ipython",
    "version": 3
   },
   "file_extension": ".py",
   "mimetype": "text/x-python",
   "name": "python",
   "nbconvert_exporter": "python",
   "pygments_lexer": "ipython3",
   "version": "3.7.3"
  }
 },
 "nbformat": 4,
 "nbformat_minor": 2
}
